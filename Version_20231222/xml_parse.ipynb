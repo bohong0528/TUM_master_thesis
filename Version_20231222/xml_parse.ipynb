{
 "cells": [
  {
   "cell_type": "code",
   "execution_count": 46,
   "id": "initial_id",
   "metadata": {
    "collapsed": true,
    "ExecuteTime": {
     "end_time": "2024-01-04T23:11:03.314400400Z",
     "start_time": "2024-01-04T23:10:14.240441900Z"
    }
   },
   "outputs": [],
   "source": [
    "import xml.etree.ElementTree as ET\n",
    "import pandas as pd\n",
    "\n",
    "# Load and parse the XML file\n",
    "tree = ET.parse('Scenarios/cutoutWorlds/po-1_pn-1.0_sn-1/plans.xml')\n",
    "root = tree.getroot()\n",
    "\n",
    "# Prepare a list to collect the activity data\n",
    "activities_data = []\n",
    "\n",
    "# Iterate through each person in the XML\n",
    "for person in root.findall('person'):\n",
    "    person_id = person.get('id')\n",
    "    \n",
    "    # Collect each activity's data for the person\n",
    "    for activity in person.findall('.//activity'):\n",
    "        activity_type = activity.get('type')\n",
    "        link = activity.get('link')\n",
    "        # Split the activity type into two parts\n",
    "        if activity.get('end_time'):\n",
    "            end_time = pd.to_timedelta(activity.get('end_time'))\n",
    "        else:\n",
    "            end_time = -1\n",
    "        if activity.get('max_dur'):\n",
    "            max_dur = pd.to_timedelta(activity.get('max_dur')).total_seconds()\n",
    "        else:\n",
    "            max_dur = -1\n",
    "        if '_' in activity_type:\n",
    "            activity_type_main, activity_type_value = activity_type.split('_')\n",
    "        else:\n",
    "            activity_type_main, activity_type_value = activity_type, 0    \n",
    "        # Create a dictionary for each activity of type \"other\"\n",
    "        activity_data = {\n",
    "            'person_id': person_id,\n",
    "            'activity_type_main': activity_type_main,\n",
    "            'activity_type_value': float(activity_type_value),  # Convert to float\n",
    "            'link': link,\n",
    "            'x': float(activity.get('x')),  # Convert to float\n",
    "            'y': float(activity.get('y')),   # Convert to float\n",
    "            'max_dur': max_dur,\n",
    "            'end_time': end_time\n",
    "        }\n",
    "        for attr in activity.findall('.//attribute'):\n",
    "            name = attr.get('name')\n",
    "            value = attr.text\n",
    "            activity_data[name] = value\n",
    "        # Add the activity data to the list\n",
    "        activities_data.append(activity_data)\n",
    "\n",
    "# Convert the list of data into a pandas DataFrame\n",
    "df_activities = pd.DataFrame(activities_data)\n",
    "df_activities.fillna(-1, inplace=True)\n",
    "df_activities.to_pickle(\"./df_activities.pkl\")"
   ]
  },
  {
   "cell_type": "code",
   "outputs": [
    {
     "data": {
      "text/plain": "                       person_id   activity_type_main  activity_type_value  \\\n0                      100012001                 home              58800.0   \n1                      100012001                other                600.0   \n2                      100012001                 home              33000.0   \n3                      100012001     ride interaction                  0.0   \n4                      100012001     ride interaction                  0.0   \n...                          ...                  ...                  ...   \n326809  freight_996_87464-berlin              freight                  0.0   \n326810   freight_9_144245-berlin              freight                  0.0   \n326811   freight_9_144245-berlin  freight interaction                  0.0   \n326812   freight_9_144245-berlin  freight interaction                  0.0   \n326813   freight_9_144245-berlin              freight                  0.0   \n\n          link             x             y  max_dur         end_time  \\\n0        12466  4.628514e+06  5.831327e+06     -1.0  0 days 07:55:00   \n1       106959  4.629522e+06  5.830838e+06    540.0               -1   \n2        12466  4.628514e+06  5.831327e+06     -1.0  0 days 17:24:00   \n3        12466  4.628134e+06  5.831123e+06      0.0               -1   \n4        78465  4.625223e+06  5.837994e+06      0.0               -1   \n...        ...           ...           ...      ...              ...   \n326809  130117  4.591246e+06  5.832407e+06     -1.0               -1   \n326810   12739  4.574147e+06  5.809461e+06     -1.0  0 days 08:44:10   \n326811   12739  4.574147e+06  5.809461e+06      0.0               -1   \n326812  144486  4.599983e+06  5.833178e+06      0.0               -1   \n326813  144486  4.599966e+06  5.833193e+06     -1.0               -1   \n\n          zoneId  cemdapStopDuration_s  \n0       12064472                  -1.0  \n1       12064472                 540.0  \n2       12064472               33060.0  \n3             -1                  -1.0  \n4             -1                  -1.0  \n...          ...                   ...  \n326809        -1                  -1.0  \n326810        -1                  -1.0  \n326811        -1                  -1.0  \n326812        -1                  -1.0  \n326813        -1                  -1.0  \n\n[326814 rows x 10 columns]",
      "text/html": "<div>\n<style scoped>\n    .dataframe tbody tr th:only-of-type {\n        vertical-align: middle;\n    }\n\n    .dataframe tbody tr th {\n        vertical-align: top;\n    }\n\n    .dataframe thead th {\n        text-align: right;\n    }\n</style>\n<table border=\"1\" class=\"dataframe\">\n  <thead>\n    <tr style=\"text-align: right;\">\n      <th></th>\n      <th>person_id</th>\n      <th>activity_type_main</th>\n      <th>activity_type_value</th>\n      <th>link</th>\n      <th>x</th>\n      <th>y</th>\n      <th>max_dur</th>\n      <th>end_time</th>\n      <th>zoneId</th>\n      <th>cemdapStopDuration_s</th>\n    </tr>\n  </thead>\n  <tbody>\n    <tr>\n      <th>0</th>\n      <td>100012001</td>\n      <td>home</td>\n      <td>58800.0</td>\n      <td>12466</td>\n      <td>4.628514e+06</td>\n      <td>5.831327e+06</td>\n      <td>-1.0</td>\n      <td>0 days 07:55:00</td>\n      <td>12064472</td>\n      <td>-1.0</td>\n    </tr>\n    <tr>\n      <th>1</th>\n      <td>100012001</td>\n      <td>other</td>\n      <td>600.0</td>\n      <td>106959</td>\n      <td>4.629522e+06</td>\n      <td>5.830838e+06</td>\n      <td>540.0</td>\n      <td>-1</td>\n      <td>12064472</td>\n      <td>540.0</td>\n    </tr>\n    <tr>\n      <th>2</th>\n      <td>100012001</td>\n      <td>home</td>\n      <td>33000.0</td>\n      <td>12466</td>\n      <td>4.628514e+06</td>\n      <td>5.831327e+06</td>\n      <td>-1.0</td>\n      <td>0 days 17:24:00</td>\n      <td>12064472</td>\n      <td>33060.0</td>\n    </tr>\n    <tr>\n      <th>3</th>\n      <td>100012001</td>\n      <td>ride interaction</td>\n      <td>0.0</td>\n      <td>12466</td>\n      <td>4.628134e+06</td>\n      <td>5.831123e+06</td>\n      <td>0.0</td>\n      <td>-1</td>\n      <td>-1</td>\n      <td>-1.0</td>\n    </tr>\n    <tr>\n      <th>4</th>\n      <td>100012001</td>\n      <td>ride interaction</td>\n      <td>0.0</td>\n      <td>78465</td>\n      <td>4.625223e+06</td>\n      <td>5.837994e+06</td>\n      <td>0.0</td>\n      <td>-1</td>\n      <td>-1</td>\n      <td>-1.0</td>\n    </tr>\n    <tr>\n      <th>...</th>\n      <td>...</td>\n      <td>...</td>\n      <td>...</td>\n      <td>...</td>\n      <td>...</td>\n      <td>...</td>\n      <td>...</td>\n      <td>...</td>\n      <td>...</td>\n      <td>...</td>\n    </tr>\n    <tr>\n      <th>326809</th>\n      <td>freight_996_87464-berlin</td>\n      <td>freight</td>\n      <td>0.0</td>\n      <td>130117</td>\n      <td>4.591246e+06</td>\n      <td>5.832407e+06</td>\n      <td>-1.0</td>\n      <td>-1</td>\n      <td>-1</td>\n      <td>-1.0</td>\n    </tr>\n    <tr>\n      <th>326810</th>\n      <td>freight_9_144245-berlin</td>\n      <td>freight</td>\n      <td>0.0</td>\n      <td>12739</td>\n      <td>4.574147e+06</td>\n      <td>5.809461e+06</td>\n      <td>-1.0</td>\n      <td>0 days 08:44:10</td>\n      <td>-1</td>\n      <td>-1.0</td>\n    </tr>\n    <tr>\n      <th>326811</th>\n      <td>freight_9_144245-berlin</td>\n      <td>freight interaction</td>\n      <td>0.0</td>\n      <td>12739</td>\n      <td>4.574147e+06</td>\n      <td>5.809461e+06</td>\n      <td>0.0</td>\n      <td>-1</td>\n      <td>-1</td>\n      <td>-1.0</td>\n    </tr>\n    <tr>\n      <th>326812</th>\n      <td>freight_9_144245-berlin</td>\n      <td>freight interaction</td>\n      <td>0.0</td>\n      <td>144486</td>\n      <td>4.599983e+06</td>\n      <td>5.833178e+06</td>\n      <td>0.0</td>\n      <td>-1</td>\n      <td>-1</td>\n      <td>-1.0</td>\n    </tr>\n    <tr>\n      <th>326813</th>\n      <td>freight_9_144245-berlin</td>\n      <td>freight</td>\n      <td>0.0</td>\n      <td>144486</td>\n      <td>4.599966e+06</td>\n      <td>5.833193e+06</td>\n      <td>-1.0</td>\n      <td>-1</td>\n      <td>-1</td>\n      <td>-1.0</td>\n    </tr>\n  </tbody>\n</table>\n<p>326814 rows × 10 columns</p>\n</div>"
     },
     "execution_count": 48,
     "metadata": {},
     "output_type": "execute_result"
    }
   ],
   "source": [
    "\n",
    "df_activities"
   ],
   "metadata": {
    "collapsed": false,
    "ExecuteTime": {
     "end_time": "2024-01-04T23:48:51.939155100Z",
     "start_time": "2024-01-04T23:48:51.856797600Z"
    }
   },
   "id": "a940b0da37d4600f",
   "execution_count": 48
  },
  {
   "cell_type": "code",
   "outputs": [],
   "source": [
    " # Load and parse the XML file\n",
    "tree = ET.parse('Scenarios/cutoutWorlds/po-1_pn-1.0_sn-1/network.xml')\n",
    "root = tree.getroot()\n",
    "\n",
    "# Prepare a list to collect the activity data\n",
    "links_data = []\n",
    "nodes_data = []\n",
    "# Iterate through each person in the XML\n",
    "for nodes in root.findall('nodes'): \n",
    "    for node in nodes.findall('.//node'):\n",
    "        node_id = node.get('id')\n",
    "        node_data = {\n",
    "                'node_id': node_id,\n",
    "                'x': float(node.get('x')),  # Convert to float\n",
    "                'y': float(node.get('y'))   # Convert to float\n",
    "        }\n",
    "        nodes_data.append(node_data)\n",
    "df_nodes = pd.DataFrame(nodes_data)\n",
    "\n",
    "for links in root.findall('links'): \n",
    "    for link in links.findall('.//link'):\n",
    "        link_id = link.get('id')\n",
    "        link_data = {\n",
    "                'link_id': link_id,\n",
    "                'from': link.get('from'),  # Convert to float\n",
    "                'to': link.get('to'),\n",
    "                'length': float(link.get('length')),\n",
    "                'freespeed': float(link.get('freespeed')),\n",
    "                'capacity': float(link.get('capacity')),\n",
    "                'permlanes': float(link.get('permlanes'))\n",
    "        }\n",
    "        for attr in link.findall('.//attribute'):\n",
    "            name = attr.get('name')\n",
    "            value = attr.text\n",
    "            link_data[name] = value\n",
    "        links_data.append(link_data)\n",
    "df_links = pd.DataFrame(links_data)\n",
    "df_links = df_links.merge(df_nodes, how='left', left_on='from', right_on='node_id')\n",
    "df_links = df_links.rename(columns={'x': 'start_node_x', 'y': 'start_node_y'})\n",
    "df_links.drop('node_id', axis=1, inplace=True)\n",
    "df_links = df_links.merge(df_nodes, how='left', left_on='to', right_on='node_id')\n",
    "df_links = df_links.rename(columns={'x': 'end_node_x', 'y': 'end_node_y'})\n",
    "df_links.drop('node_id', axis=1, inplace=True)\n",
    "df_links.to_pickle(\"./df_links_network.pkl\")"
   ],
   "metadata": {
    "collapsed": false,
    "ExecuteTime": {
     "end_time": "2024-01-04T19:42:03.621574800Z",
     "start_time": "2024-01-04T19:41:39.123447100Z"
    }
   },
   "id": "7ef72846d1ffca0a",
   "execution_count": 12
  },
  {
   "cell_type": "code",
   "outputs": [
    {
     "data": {
      "text/plain": "        link_id             from               to       length  freespeed  \\\n0             1       4864982246        262215600    31.467991   4.166667   \n1            10         26703746       2951553394    97.996533   6.944444   \n2           100         27318315        587724650    71.196902   2.777778   \n3          1000         29690627         29690626    17.031152   4.166667   \n4         10000       1106607970         36265803    27.555616   6.944444   \n...         ...              ...              ...          ...        ...   \n202934  pt_9995  pt_500000065901  pt_500000087401   354.868966  12.236861   \n202935  pt_9996  pt_500000087401  pt_500000086501  1353.018128   9.080659   \n202936  pt_9997  pt_500000086501  pt_500000086601  1689.217448   8.082380   \n202937  pt_9998  pt_500000086601  pt_500000083701  1600.265408   7.656772   \n202938  pt_9999  pt_500000083701  pt_500000086701  1848.365387  20.768150   \n\n        capacity  permlanes     origid           type  start_node_x  \\\n0         1200.0        1.0   34079256    residential  4.598660e+06   \n1         3200.0        2.0  254807835      secondary  4.593483e+06   \n2          600.0        1.0   10616925  living_street  4.577283e+06   \n3         1200.0        1.0   13763400    residential  4.590346e+06   \n4         1800.0        1.5    5382362       tertiary  4.642227e+06   \n...          ...        ...        ...            ...           ...   \n202934  100000.0        1.0        NaN            NaN  4.625974e+06   \n202935  100000.0        1.0        NaN            NaN  4.626313e+06   \n202936  100000.0        1.0        NaN            NaN  4.627578e+06   \n202937  100000.0        1.0        NaN            NaN  4.628532e+06   \n202938  100000.0        1.0        NaN            NaN  4.628974e+06   \n\n        start_node_y    end_node_x    end_node_y  \n0       5.824485e+06  4.598687e+06  5.824468e+06  \n1       5.822597e+06  4.593571e+06  5.822640e+06  \n2       5.806557e+06  4.577298e+06  5.806627e+06  \n3       5.826569e+06  4.590355e+06  5.826554e+06  \n4       5.803035e+06  4.642204e+06  5.803051e+06  \n...              ...           ...           ...  \n202934  5.909627e+06  4.626313e+06  5.909522e+06  \n202935  5.909522e+06  4.627578e+06  5.909042e+06  \n202936  5.909042e+06  4.628532e+06  5.907648e+06  \n202937  5.907648e+06  4.628974e+06  5.906110e+06  \n202938  5.906110e+06  4.627169e+06  5.905712e+06  \n\n[202939 rows x 13 columns]",
      "text/html": "<div>\n<style scoped>\n    .dataframe tbody tr th:only-of-type {\n        vertical-align: middle;\n    }\n\n    .dataframe tbody tr th {\n        vertical-align: top;\n    }\n\n    .dataframe thead th {\n        text-align: right;\n    }\n</style>\n<table border=\"1\" class=\"dataframe\">\n  <thead>\n    <tr style=\"text-align: right;\">\n      <th></th>\n      <th>link_id</th>\n      <th>from</th>\n      <th>to</th>\n      <th>length</th>\n      <th>freespeed</th>\n      <th>capacity</th>\n      <th>permlanes</th>\n      <th>origid</th>\n      <th>type</th>\n      <th>start_node_x</th>\n      <th>start_node_y</th>\n      <th>end_node_x</th>\n      <th>end_node_y</th>\n    </tr>\n  </thead>\n  <tbody>\n    <tr>\n      <th>0</th>\n      <td>1</td>\n      <td>4864982246</td>\n      <td>262215600</td>\n      <td>31.467991</td>\n      <td>4.166667</td>\n      <td>1200.0</td>\n      <td>1.0</td>\n      <td>34079256</td>\n      <td>residential</td>\n      <td>4.598660e+06</td>\n      <td>5.824485e+06</td>\n      <td>4.598687e+06</td>\n      <td>5.824468e+06</td>\n    </tr>\n    <tr>\n      <th>1</th>\n      <td>10</td>\n      <td>26703746</td>\n      <td>2951553394</td>\n      <td>97.996533</td>\n      <td>6.944444</td>\n      <td>3200.0</td>\n      <td>2.0</td>\n      <td>254807835</td>\n      <td>secondary</td>\n      <td>4.593483e+06</td>\n      <td>5.822597e+06</td>\n      <td>4.593571e+06</td>\n      <td>5.822640e+06</td>\n    </tr>\n    <tr>\n      <th>2</th>\n      <td>100</td>\n      <td>27318315</td>\n      <td>587724650</td>\n      <td>71.196902</td>\n      <td>2.777778</td>\n      <td>600.0</td>\n      <td>1.0</td>\n      <td>10616925</td>\n      <td>living_street</td>\n      <td>4.577283e+06</td>\n      <td>5.806557e+06</td>\n      <td>4.577298e+06</td>\n      <td>5.806627e+06</td>\n    </tr>\n    <tr>\n      <th>3</th>\n      <td>1000</td>\n      <td>29690627</td>\n      <td>29690626</td>\n      <td>17.031152</td>\n      <td>4.166667</td>\n      <td>1200.0</td>\n      <td>1.0</td>\n      <td>13763400</td>\n      <td>residential</td>\n      <td>4.590346e+06</td>\n      <td>5.826569e+06</td>\n      <td>4.590355e+06</td>\n      <td>5.826554e+06</td>\n    </tr>\n    <tr>\n      <th>4</th>\n      <td>10000</td>\n      <td>1106607970</td>\n      <td>36265803</td>\n      <td>27.555616</td>\n      <td>6.944444</td>\n      <td>1800.0</td>\n      <td>1.5</td>\n      <td>5382362</td>\n      <td>tertiary</td>\n      <td>4.642227e+06</td>\n      <td>5.803035e+06</td>\n      <td>4.642204e+06</td>\n      <td>5.803051e+06</td>\n    </tr>\n    <tr>\n      <th>...</th>\n      <td>...</td>\n      <td>...</td>\n      <td>...</td>\n      <td>...</td>\n      <td>...</td>\n      <td>...</td>\n      <td>...</td>\n      <td>...</td>\n      <td>...</td>\n      <td>...</td>\n      <td>...</td>\n      <td>...</td>\n      <td>...</td>\n    </tr>\n    <tr>\n      <th>202934</th>\n      <td>pt_9995</td>\n      <td>pt_500000065901</td>\n      <td>pt_500000087401</td>\n      <td>354.868966</td>\n      <td>12.236861</td>\n      <td>100000.0</td>\n      <td>1.0</td>\n      <td>NaN</td>\n      <td>NaN</td>\n      <td>4.625974e+06</td>\n      <td>5.909627e+06</td>\n      <td>4.626313e+06</td>\n      <td>5.909522e+06</td>\n    </tr>\n    <tr>\n      <th>202935</th>\n      <td>pt_9996</td>\n      <td>pt_500000087401</td>\n      <td>pt_500000086501</td>\n      <td>1353.018128</td>\n      <td>9.080659</td>\n      <td>100000.0</td>\n      <td>1.0</td>\n      <td>NaN</td>\n      <td>NaN</td>\n      <td>4.626313e+06</td>\n      <td>5.909522e+06</td>\n      <td>4.627578e+06</td>\n      <td>5.909042e+06</td>\n    </tr>\n    <tr>\n      <th>202936</th>\n      <td>pt_9997</td>\n      <td>pt_500000086501</td>\n      <td>pt_500000086601</td>\n      <td>1689.217448</td>\n      <td>8.082380</td>\n      <td>100000.0</td>\n      <td>1.0</td>\n      <td>NaN</td>\n      <td>NaN</td>\n      <td>4.627578e+06</td>\n      <td>5.909042e+06</td>\n      <td>4.628532e+06</td>\n      <td>5.907648e+06</td>\n    </tr>\n    <tr>\n      <th>202937</th>\n      <td>pt_9998</td>\n      <td>pt_500000086601</td>\n      <td>pt_500000083701</td>\n      <td>1600.265408</td>\n      <td>7.656772</td>\n      <td>100000.0</td>\n      <td>1.0</td>\n      <td>NaN</td>\n      <td>NaN</td>\n      <td>4.628532e+06</td>\n      <td>5.907648e+06</td>\n      <td>4.628974e+06</td>\n      <td>5.906110e+06</td>\n    </tr>\n    <tr>\n      <th>202938</th>\n      <td>pt_9999</td>\n      <td>pt_500000083701</td>\n      <td>pt_500000086701</td>\n      <td>1848.365387</td>\n      <td>20.768150</td>\n      <td>100000.0</td>\n      <td>1.0</td>\n      <td>NaN</td>\n      <td>NaN</td>\n      <td>4.628974e+06</td>\n      <td>5.906110e+06</td>\n      <td>4.627169e+06</td>\n      <td>5.905712e+06</td>\n    </tr>\n  </tbody>\n</table>\n<p>202939 rows × 13 columns</p>\n</div>"
     },
     "execution_count": 13,
     "metadata": {},
     "output_type": "execute_result"
    }
   ],
   "source": [
    "df_links"
   ],
   "metadata": {
    "collapsed": false,
    "ExecuteTime": {
     "end_time": "2024-01-04T19:42:03.687384900Z",
     "start_time": "2024-01-04T19:42:03.620452100Z"
    }
   },
   "id": "a74db9ebe9ca73be",
   "execution_count": 13
  },
  {
   "cell_type": "code",
   "outputs": [],
   "source": [
    "new = df_activities.merge(df_links, how='left', left_on='link', right_on='link_id')\n",
    "new.drop(['length','freespeed','capacity','permlanes'], axis=1, inplace=True)\n",
    "new"
   ],
   "metadata": {
    "collapsed": false
   },
   "id": "23b63ccf47341986",
   "execution_count": null
  },
  {
   "cell_type": "code",
   "outputs": [],
   "source": [
    "import json\n",
    "file = 'Data/cutoutWorlds/Train/po-1_pn-1.0_sn-1/s-0.json'\n",
    "with open(file, 'r') as f:\n",
    "            data = json.load(f)\n",
    "df_work = pd.DataFrame({\n",
    "    'work_x': data['work_x'],\n",
    "    'work_y': data['work_y'],\n",
    "    'go_to_work': data['go_to_work']\n",
    "})\n",
    "df_home = pd.DataFrame({\n",
    "    'home_x': data['home_x'],\n",
    "    'home_y': data['home_y'],\n",
    "    'go_to_home': data['go_to_home']\n",
    "})\n",
    "\n",
    "df_links_dataset = pd.DataFrame({\n",
    "                'link_id': data['links_id'],\n",
    "                'link_from': data['link_from'],\n",
    "                'link_to': data['link_to'],\n",
    "                'link_length': data['link_length']\n",
    "            })\n",
    "df_nodes_dataset = pd.DataFrame({\n",
    "                'node_id': data['nodes_id'],\n",
    "                'node_x': data['nodes_x'],\n",
    "                'node_y': data['nodes_y']\n",
    "            })\n",
    "df_links_dataset = df_links_dataset.merge(df_nodes_dataset, how='left', left_on='link_from', right_on='node_id')\n",
    "df_links_dataset = df_links_dataset.rename(columns={'node_x': 'start_node_x', 'node_y': 'start_node_y'})\n",
    "df_links_dataset.drop('node_id', axis=1, inplace=True)\n",
    "df_links_dataset = df_links_dataset.merge(df_nodes_dataset, how='left', left_on='link_to', right_on='node_id')\n",
    "df_links_dataset = df_links_dataset.rename(columns={'node_x': 'end_node_x', 'node_y': 'end_node_y'})\n",
    "df_links_dataset.drop('node_id', axis=1, inplace=True) "
   ],
   "metadata": {
    "collapsed": false
   },
   "id": "2ae81199ce4b5c85",
   "execution_count": null
  },
  {
   "cell_type": "code",
   "outputs": [],
   "source": [
    "df_act_work = df_activities[df_activities['activity_type_main']=='work']\n",
    "df_act_work = df_act_work.merge(df_work, how='left', left_on=['x','y'], right_on=['work_x','work_y'])\n",
    "df_act_work.drop(['x','y'], axis=1, inplace=True)\n",
    "df_act_work_agg = df_act_work.groupby(by=\"link\").sum()['go_to_work'].reset_index(drop=False)\n",
    "df_act_home = df_activities[df_activities['activity_type_main']=='home']\n",
    "df_act_home = df_act_home.merge(df_home, how='left', left_on=['x','y'], right_on=['home_x','home_y'])\n",
    "df_act_home.drop(['x','y'], axis=1, inplace=True)\n",
    "df_act_home_agg = df_act_home.groupby(by=\"link\").sum()['go_to_home'].reset_index(drop=False)\n",
    "df_act_agg = df_act_home_agg.merge(df_act_work_agg, how='outer', on='link')\n",
    "df_act_agg.fillna(0, inplace=True)\n",
    "df_act_agg['go_to_sum'] = df_act_agg['go_to_home'] + df_act_agg['go_to_work']"
   ],
   "metadata": {
    "collapsed": false
   },
   "id": "b29e2c7f17cd46e9",
   "execution_count": null
  },
  {
   "cell_type": "code",
   "outputs": [],
   "source": [
    "mg = df_links_dataset.merge(df_links, how='left', on=['start_node_x','start_node_y','end_node_x','end_node_y'])\n",
    "mg = mg[['link_id_x','link_from','link_to','link_id_y','from', 'to']]\n",
    "mg = mg.rename(columns={'link_id_x': 'link_id_dataset', 'link_id_y': 'link_id_network', 'link_from': 'node_from_dataset', 'from': 'node_from_network','link_to': 'node_to_dataset', 'to': 'node_to_network'})"
   ],
   "metadata": {
    "collapsed": false
   },
   "id": "606ef910855e5933",
   "execution_count": null
  },
  {
   "cell_type": "code",
   "outputs": [],
   "source": [
    "link_home_work = mg.merge(df_act_agg, how='left', left_on='link_id_network', right_on='link')\n",
    "link_home_work['go_to_sum'].fillna(0, inplace=True)\n",
    "link_go_to = link_home_work[['link_id_dataset', 'go_to_sum']]"
   ],
   "metadata": {
    "collapsed": false
   },
   "id": "7310051927463f99",
   "execution_count": null
  },
  {
   "cell_type": "code",
   "outputs": [],
   "source": [],
   "metadata": {
    "collapsed": false
   },
   "id": "7d964a5bd8878f9d",
   "execution_count": null
  },
  {
   "cell_type": "code",
   "outputs": [],
   "source": [],
   "metadata": {
    "collapsed": false
   },
   "id": "ece8ba9d92101ea5"
  }
 ],
 "metadata": {
  "kernelspec": {
   "display_name": "Python 3",
   "language": "python",
   "name": "python3"
  },
  "language_info": {
   "codemirror_mode": {
    "name": "ipython",
    "version": 2
   },
   "file_extension": ".py",
   "mimetype": "text/x-python",
   "name": "python",
   "nbconvert_exporter": "python",
   "pygments_lexer": "ipython2",
   "version": "2.7.6"
  }
 },
 "nbformat": 4,
 "nbformat_minor": 5
}
